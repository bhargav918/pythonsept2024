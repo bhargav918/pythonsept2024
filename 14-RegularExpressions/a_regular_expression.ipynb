{
 "cells": [
  {
   "cell_type": "code",
   "execution_count": 5,
   "metadata": {},
   "outputs": [],
   "source": [
    "import re\n"
   ]
  },
  {
   "cell_type": "code",
   "execution_count": 6,
   "metadata": {},
   "outputs": [
    {
     "data": {
      "text/plain": [
       "<module 're' from '/usr/local/python/3.12.1/lib/python3.12/re/__init__.py'>"
      ]
     },
     "execution_count": 6,
     "metadata": {},
     "output_type": "execute_result"
    }
   ],
   "source": [
    "re\n"
   ]
  },
  {
   "cell_type": "code",
   "execution_count": 7,
   "metadata": {},
   "outputs": [
    {
     "data": {
      "text/plain": [
       "['A',\n",
       " 'ASCII',\n",
       " 'DEBUG',\n",
       " 'DOTALL',\n",
       " 'I',\n",
       " 'IGNORECASE',\n",
       " 'L',\n",
       " 'LOCALE',\n",
       " 'M',\n",
       " 'MULTILINE',\n",
       " 'Match',\n",
       " 'NOFLAG',\n",
       " 'Pattern',\n",
       " 'RegexFlag',\n",
       " 'S',\n",
       " 'Scanner',\n",
       " 'T',\n",
       " 'TEMPLATE',\n",
       " 'U',\n",
       " 'UNICODE',\n",
       " 'VERBOSE',\n",
       " 'X',\n",
       " '_MAXCACHE',\n",
       " '_MAXCACHE2',\n",
       " '__all__',\n",
       " '__builtins__',\n",
       " '__cached__',\n",
       " '__doc__',\n",
       " '__file__',\n",
       " '__loader__',\n",
       " '__name__',\n",
       " '__package__',\n",
       " '__path__',\n",
       " '__spec__',\n",
       " '__version__',\n",
       " '_cache',\n",
       " '_cache2',\n",
       " '_casefix',\n",
       " '_compile',\n",
       " '_compile_template',\n",
       " '_compiler',\n",
       " '_constants',\n",
       " '_parser',\n",
       " '_pickle',\n",
       " '_special_chars_map',\n",
       " '_sre',\n",
       " 'compile',\n",
       " 'copyreg',\n",
       " 'enum',\n",
       " 'error',\n",
       " 'escape',\n",
       " 'findall',\n",
       " 'finditer',\n",
       " 'fullmatch',\n",
       " 'functools',\n",
       " 'match',\n",
       " 'purge',\n",
       " 'search',\n",
       " 'split',\n",
       " 'sub',\n",
       " 'subn',\n",
       " 'template']"
      ]
     },
     "execution_count": 7,
     "metadata": {},
     "output_type": "execute_result"
    }
   ],
   "source": [
    "dir(re)"
   ]
  },
  {
   "cell_type": "code",
   "execution_count": 8,
   "metadata": {},
   "outputs": [
    {
     "name": "stdout",
     "output_type": "stream",
     "text": [
      "target_string.find(search_string) =-1\n",
      "search_string in target_string    =False\n"
     ]
    }
   ],
   "source": [
    "# Using re.match\n",
    "#     - It helps to identify patterns at the starting of string\n",
    "#     - By default, it is case-sensitive\n",
    "target_string = \"Python Programming is good for health\"\n",
    "search_string = \"python\"\n",
    "\n",
    "print(f\"{target_string.find(search_string) =}\")\n",
    "print(f\"{search_string in target_string    =}\")"
   ]
  },
  {
   "cell_type": "code",
   "execution_count": 9,
   "metadata": {},
   "outputs": [
    {
     "name": "stdout",
     "output_type": "stream",
     "text": [
      "re.compile('python') <class 're.Pattern'>\n"
     ]
    }
   ],
   "source": [
    "reg_obj = re.compile(search_string)\n",
    "print(reg_obj, type(reg_obj))"
   ]
  },
  {
   "cell_type": "code",
   "execution_count": 10,
   "metadata": {},
   "outputs": [
    {
     "name": "stdout",
     "output_type": "stream",
     "text": [
      "result =None\n"
     ]
    }
   ],
   "source": [
    "result = reg_obj.match(target_string)\n",
    "print(f\"{result =}\")"
   ]
  },
  {
   "cell_type": "code",
   "execution_count": 11,
   "metadata": {},
   "outputs": [
    {
     "name": "stdout",
     "output_type": "stream",
     "text": [
      "NO match found\n"
     ]
    }
   ],
   "source": [
    "if result:\n",
    "    print(f\"result.group():{result.group()}\")\n",
    "    print(f\"result.span() :{result.span()}\")\n",
    "    print(f\"result.start():{result.start()}\")\n",
    "    print(f\"result.end()  :{result.end()}\")\n",
    "else:\n",
    "    print(\"NO match found\")"
   ]
  },
  {
   "cell_type": "code",
   "execution_count": 12,
   "metadata": {},
   "outputs": [
    {
     "name": "stdout",
     "output_type": "stream",
     "text": [
      "target_string.find(search_string) =-1\n",
      "search_string in target_string    =False\n"
     ]
    }
   ],
   "source": [
    "target_string = \"Python Programming is good for health\"\n",
    "search_string = \"python\"\n",
    "\n",
    "print(f\"{target_string.find(search_string) =}\")\n",
    "print(f\"{search_string in target_string    =}\")"
   ]
  },
  {
   "cell_type": "code",
   "execution_count": 13,
   "metadata": {},
   "outputs": [
    {
     "name": "stdout",
     "output_type": "stream",
     "text": [
      "re.compile('python') <class 're.Pattern'>\n",
      "result =None\n",
      "NO match found\n"
     ]
    }
   ],
   "source": [
    "reg_obj = re.compile(search_string)\n",
    "print(reg_obj, type(reg_obj))\n",
    "\n",
    "result = reg_obj.match(target_string)\n",
    "print(f\"{result =}\")\n",
    "\n",
    "if result:\n",
    "    print(f\"result.group():{result.group()}\")\n",
    "    print(f\"result.span() :{result.span()}\")\n",
    "    print(f\"result.start():{result.start()}\")\n",
    "    print(f\"result.end()  :{result.end()}\")\n",
    "else:\n",
    "    print(\"NO match found\")"
   ]
  },
  {
   "cell_type": "code",
   "execution_count": 14,
   "metadata": {},
   "outputs": [
    {
     "name": "stdout",
     "output_type": "stream",
     "text": [
      "\n",
      "search_string = python\n",
      "target_string.lower().find(search_string.lower()) =0\n",
      "search_string.lower() in target_string.lower()    =True\n",
      "re.compile('python', re.IGNORECASE) <class 're.Pattern'>\n",
      "result =<re.Match object; span=(0, 6), match='Python'>\n",
      "result.group():Python\n",
      "result.span() :(0, 6)\n",
      "result.start():0\n",
      "result.end()  :6\n",
      "\n",
      "search_string = Python\n",
      "target_string.lower().find(search_string.lower()) =0\n",
      "search_string.lower() in target_string.lower()    =True\n",
      "re.compile('Python', re.IGNORECASE) <class 're.Pattern'>\n",
      "result =<re.Match object; span=(0, 6), match='Python'>\n",
      "result.group():Python\n",
      "result.span() :(0, 6)\n",
      "result.start():0\n",
      "result.end()  :6\n",
      "\n",
      "search_string = PYTHON\n",
      "target_string.lower().find(search_string.lower()) =0\n",
      "search_string.lower() in target_string.lower()    =True\n",
      "re.compile('PYTHON', re.IGNORECASE) <class 're.Pattern'>\n",
      "result =<re.Match object; span=(0, 6), match='Python'>\n",
      "result.group():Python\n",
      "result.span() :(0, 6)\n",
      "result.start():0\n",
      "result.end()  :6\n",
      "\n",
      "search_string = PYThon\n",
      "target_string.lower().find(search_string.lower()) =0\n",
      "search_string.lower() in target_string.lower()    =True\n",
      "re.compile('PYThon', re.IGNORECASE) <class 're.Pattern'>\n",
      "result =<re.Match object; span=(0, 6), match='Python'>\n",
      "result.group():Python\n",
      "result.span() :(0, 6)\n",
      "result.start():0\n",
      "result.end()  :6\n"
     ]
    }
   ],
   "source": [
    "for search_string in (\"python\", \"Python\", \"PYTHON\", \"PYThon\"):\n",
    "    print(\"\\nsearch_string =\", search_string)\n",
    "    \n",
    "    # print(f\"{target_string.find(search_string) =}\")\n",
    "    # print(f\"{search_string in target_string    =}\")\n",
    "    print(f\"{target_string.lower().find(search_string.lower()) =}\")\n",
    "    print(f\"{search_string.lower() in target_string.lower()    =}\")\n",
    "    \n",
    "    reg_obj = re.compile(search_string, re.I)  # re.IGNORECASE\n",
    "    print(reg_obj, type(reg_obj))\n",
    "\n",
    "    result = reg_obj.match(target_string)\n",
    "    print(f\"{result =}\")\n",
    "\n",
    "    if result:\n",
    "        print(f\"result.group():{result.group()}\")\n",
    "        print(f\"result.span() :{result.span()}\")\n",
    "        print(f\"result.start():{result.start()}\")\n",
    "        print(f\"result.end()  :{result.end()}\")\n",
    "    else:\n",
    "        print(\"NO match found\")"
   ]
  },
  {
   "cell_type": "code",
   "execution_count": 15,
   "metadata": {},
   "outputs": [
    {
     "name": "stdout",
     "output_type": "stream",
     "text": [
      "re.compile('Programming', re.IGNORECASE) <class 're.Pattern'>\n",
      "result =None\n",
      "NO match found\n"
     ]
    }
   ],
   "source": [
    "# Using re.search\n",
    "#     - It helps to identify patterns at the ANYWHERE of string\n",
    "\n",
    "# Using re.match\n",
    "#     - It helps to identify patterns at the starting of string\n",
    "\n",
    "\n",
    "target_string = \"Python Programming is good for health\"\n",
    "search_string = \"Programming\"   #\"python\"\n",
    "\n",
    "\n",
    "reg_obj = re.compile(search_string, re.I)\n",
    "print(reg_obj, type(reg_obj))\n",
    "\n",
    "result = reg_obj.match(target_string)\n",
    "print(f\"{result =}\")\n",
    "\n",
    "if result:\n",
    "    print(f\"result.group():{result.group()}\")\n",
    "    print(f\"result.span() :{result.span()}\")\n",
    "    print(f\"result.start():{result.start()}\")\n",
    "    print(f\"result.end()  :{result.end()}\")\n",
    "else:\n",
    "    print(\"NO match found\")"
   ]
  },
  {
   "cell_type": "code",
   "execution_count": 16,
   "metadata": {},
   "outputs": [
    {
     "name": "stdout",
     "output_type": "stream",
     "text": [
      "result =<re.Match object; span=(23, 29), match='PyTHOn'>\n",
      "result.group():PyTHOn\n",
      "result.span() :(23, 29)\n",
      "result.start():23\n",
      "result.end()  :29\n"
     ]
    }
   ],
   "source": [
    "target_string = \"Programming is good in PyTHOn\"\n",
    "search_string = \"pyTHoN\"\n",
    "\n",
    "\n",
    "# METHOD 1\n",
    "# reg_obj = re.compile(search_string, re.I)  # re.IGNORECASE\n",
    "# result = reg_obj.search(target_string)\n",
    "\n",
    "result = re.search(search_string, target_string,  re.I )  # re.IGNORECASE\n",
    "print(f\"{result =}\")\n",
    "\n",
    "\n",
    "if result:\n",
    "    print(f\"result.group():{result.group()}\")\n",
    "    print(f\"result.span() :{result.span()}\")\n",
    "    print(f\"result.start():{result.start()}\")\n",
    "    print(f\"result.end()  :{result.end()}\")\n",
    "else:\n",
    "    print(\"NO match found\")"
   ]
  },
  {
   "cell_type": "code",
   "execution_count": 17,
   "metadata": {},
   "outputs": [
    {
     "data": {
      "text/plain": [
       "<re.Match object; span=(23, 29), match='PyTHOn'>"
      ]
     },
     "execution_count": 17,
     "metadata": {},
     "output_type": "execute_result"
    }
   ],
   "source": [
    "re.search(\"pyTHoN\", \"Programming is good in PyTHOn\",  re.I )  # re.IGNORECASE"
   ]
  },
  {
   "cell_type": "markdown",
   "metadata": {},
   "source": [
    "Question: How to make re.search() to work like re.match ?\n",
    "pattern\n",
    "    ^   To make to check at the start of string\n",
    "    $   To make to check at the end of string"
   ]
  },
  {
   "cell_type": "code",
   "execution_count": 18,
   "metadata": {},
   "outputs": [
    {
     "data": {
      "text/plain": [
       "<re.Match object; span=(23, 29), match='PYThon'>"
      ]
     },
     "execution_count": 18,
     "metadata": {},
     "output_type": "execute_result"
    }
   ],
   "source": [
    "re.search(\"pyTHon\", \"Programming is good in PYThon\", re.I)"
   ]
  },
  {
   "cell_type": "code",
   "execution_count": 19,
   "metadata": {},
   "outputs": [],
   "source": [
    "# Question: How to make re.search() to find at the end of string only\n",
    "# pattern\n",
    "#     ^   To make to check at the start of string\n",
    "#     $   To make to check at the end of string\n",
    "\n",
    "#     \\A | Matches the expression to its right at the absolute start of a string whether in single or multi-line mode.\n",
    "#     \\Z | Matches the expression to its left at the absolute end of a string whether in single or multi-line mode."
   ]
  },
  {
   "cell_type": "code",
   "execution_count": 20,
   "metadata": {},
   "outputs": [
    {
     "data": {
      "text/plain": [
       "<re.Match object; span=(6, 9), match='abc'>"
      ]
     },
     "execution_count": 20,
     "metadata": {},
     "output_type": "execute_result"
    }
   ],
   "source": [
    "re.search(\"abc$\", \"ABC123abcd\", re.I)\n",
    "re.search(\"abc$\", \"ABC123abc\", re.I)"
   ]
  },
  {
   "cell_type": "code",
   "execution_count": 21,
   "metadata": {},
   "outputs": [
    {
     "name": "stdout",
     "output_type": "stream",
     "text": [
      "\n",
      "result:<re.Match object; span=(6, 9), match='abc'>\n",
      "result.group():abc\n"
     ]
    }
   ],
   "source": [
    "result = re.search(\"abc$\", \"ABC123abc\", re.I)\n",
    "print(f\"\\nresult:{result}\")\n",
    "if result:\n",
    "    print(f\"result.group():{result.group()}\")  # abc"
   ]
  },
  {
   "cell_type": "code",
   "execution_count": 22,
   "metadata": {},
   "outputs": [
    {
     "name": "stdout",
     "output_type": "stream",
     "text": [
      "\n",
      "result:<re.Match object; span=(6, 9), match='abc'>\n",
      "result.group():abc\n",
      "\n",
      "result:<re.Match object; span=(0, 3), match='ABC'>\n",
      "result.group():ABC\n"
     ]
    },
    {
     "name": "stderr",
     "output_type": "stream",
     "text": [
      "<>:2: SyntaxWarning: invalid escape sequence '\\Z'\n",
      "<>:7: SyntaxWarning: invalid escape sequence '\\A'\n",
      "<>:2: SyntaxWarning: invalid escape sequence '\\Z'\n",
      "<>:7: SyntaxWarning: invalid escape sequence '\\A'\n",
      "/tmp/ipykernel_6284/3802364902.py:2: SyntaxWarning: invalid escape sequence '\\Z'\n",
      "  result = re.search(\"abc\\Z\", \"ABC123abc\", re.I)\n",
      "/tmp/ipykernel_6284/3802364902.py:7: SyntaxWarning: invalid escape sequence '\\A'\n",
      "  result = re.search(\"\\Aabc\", \"ABC123abc\", re.I)\n"
     ]
    }
   ],
   "source": [
    "# Method 2 - using \\A and \\Z\n",
    "result = re.search(\"abc\\Z\", \"ABC123abc\", re.I)\n",
    "print(f\"\\nresult:{result}\")\n",
    "if result:\n",
    "    print(f\"result.group():{result.group()}\")  # abc\n",
    "\n",
    "result = re.search(\"\\Aabc\", \"ABC123abc\", re.I)\n",
    "print(f\"\\nresult:{result}\")\n",
    "if result:\n",
    "    print(f\"result.group():{result.group()}\")  # ABC"
   ]
  },
  {
   "cell_type": "code",
   "execution_count": 23,
   "metadata": {},
   "outputs": [
    {
     "name": "stdout",
     "output_type": "stream",
     "text": [
      "\n",
      "result:<re.Match object; span=(6, 9), match='abc'>\n",
      "result.group():abc\n",
      "\n",
      "result:<re.Match object; span=(0, 3), match='ABC'>\n",
      "result.group():ABC\n"
     ]
    }
   ],
   "source": [
    "# Method 2 - using \\A and \\Z\n",
    "result = re.search(r\"abc\\Z\", \"ABC123abc\", re.I)\n",
    "print(f\"\\nresult:{result}\")\n",
    "if result:\n",
    "    print(f\"result.group():{result.group()}\")  # abc\n",
    "\n",
    "result = re.search(r\"\\Aabc\", \"ABC123abc\", re.I)\n",
    "print(f\"\\nresult:{result}\")\n",
    "if result:\n",
    "    print(f\"result.group():{result.group()}\")  # ABC\n",
    "    "
   ]
  },
  {
   "cell_type": "code",
   "execution_count": 24,
   "metadata": {},
   "outputs": [],
   "source": [
    "# Question: How to get specific no. of characters from target string\n",
    "# pattern\n",
    "#     ^   To make to check at the start of string\n",
    "#     $   To make to check at the end of string\n",
    "#     # .   To get any character, except the newline(\\n) character"
   ]
  },
  {
   "cell_type": "code",
   "execution_count": 25,
   "metadata": {},
   "outputs": [
    {
     "name": "stdout",
     "output_type": "stream",
     "text": [
      "result.group():PyTHO\n"
     ]
    }
   ],
   "source": [
    "# To get 5 characters, ( default is from start of string)\n",
    "result = re.search(\".....\", \"PyTHOn Programming is good\", re.I)\n",
    "if result:\n",
    "    print(f\"result.group():{result.group()}\")"
   ]
  },
  {
   "cell_type": "code",
   "execution_count": 26,
   "metadata": {},
   "outputs": [],
   "source": [
    "# Greedy Patterns\n",
    "# patterns\n",
    "#     *  previous character can occur 0 or more times\n",
    "#     # +  previous character can occur 1 or more times"
   ]
  },
  {
   "cell_type": "code",
   "execution_count": 27,
   "metadata": {},
   "outputs": [
    {
     "name": "stdout",
     "output_type": "stream",
     "text": [
      "ab\n",
      "ab\n"
     ]
    }
   ],
   "source": [
    "print(re.match(\"ab\", \"ab\").group())\n",
    "print(re.search(\"ab\", \"ab\").group())"
   ]
  },
  {
   "cell_type": "code",
   "execution_count": 28,
   "metadata": {},
   "outputs": [
    {
     "name": "stdout",
     "output_type": "stream",
     "text": [
      "a\n"
     ]
    }
   ],
   "source": [
    "print(re.search(\"ab*\", \"a\").group()) "
   ]
  },
  {
   "cell_type": "code",
   "execution_count": 29,
   "metadata": {},
   "outputs": [
    {
     "name": "stdout",
     "output_type": "stream",
     "text": [
      "ab\n"
     ]
    }
   ],
   "source": [
    "print(re.search(\"ab*\", \"ab\").group())       # b is occurring 1 times"
   ]
  },
  {
   "cell_type": "code",
   "execution_count": 30,
   "metadata": {},
   "outputs": [
    {
     "name": "stdout",
     "output_type": "stream",
     "text": [
      "abbbbbbbbbbbbbbbbbbcccccccc\n"
     ]
    }
   ],
   "source": [
    "print(re.search(\".*\", \"abbbbbbbbbbbbbbbbbbcccccccc\").group())   \n"
   ]
  },
  {
   "cell_type": "code",
   "execution_count": 31,
   "metadata": {},
   "outputs": [],
   "source": [
    "# Non-Greedy Patterns\n",
    "#     # ?  previous character can occur 0 or 1 time only"
   ]
  },
  {
   "cell_type": "code",
   "execution_count": 32,
   "metadata": {},
   "outputs": [
    {
     "name": "stdout",
     "output_type": "stream",
     "text": [
      "a\n",
      "ab\n",
      "ab\n",
      "ab\n",
      "ab\n"
     ]
    }
   ],
   "source": [
    "print(re.search(\"ab?\", \"a\").group())                # b is occurring 0 times\n",
    "print(re.search(\"ab?\", \"ab\").group())               # b is occurring 1 times\n",
    "print(re.search(\"ab?\", \"abb\").group())              # b is occurring 2 times\n",
    "print(re.search(\"ab?\", \"abbbbbb\").group())          # b is occurring 6 times\n",
    "print(re.search(\"ab?\", \"abbbbbbbbbbbbbbbbbbbbbbbbbb\").group())"
   ]
  },
  {
   "cell_type": "code",
   "execution_count": 33,
   "metadata": {},
   "outputs": [
    {
     "name": "stdout",
     "output_type": "stream",
     "text": [
      "a\n",
      "ab\n",
      "abb\n",
      "abbb\n",
      "abbbc\n"
     ]
    }
   ],
   "source": [
    "# Greedy Patterns\n",
    "#  .+  Any character( except newline) can occur  1 or any no. of time\n",
    "#  .*  Any character( except newline) can occur  0 or any no. of time\n",
    "res = re.search(\"a.*\", \"a\")\n",
    "if res:\n",
    "    res.group()\n",
    "\n",
    "print(re.search(\"a.*\", \"a\").group())  # b is occurring 0 times\n",
    "print(re.search(\"a.*\", \"ab\").group())  # b is occurring 1 times\n",
    "print(re.search(\"a.*\", \"abb\").group())  # b is occurring 2 times\n",
    "print(re.search(\"a.*\", \"abbb\").group())  # b is occurring 3 times\n",
    "print(re.search(\"a.*\", \"abbbc\").group())  # b is occurring 3 times"
   ]
  },
  {
   "cell_type": "code",
   "execution_count": 34,
   "metadata": {},
   "outputs": [
    {
     "name": "stdout",
     "output_type": "stream",
     "text": [
      "\n",
      "aS\n",
      "ASDASDSADS\n",
      "ASDASDSADS 3444 *&(*&(_)_.dfaderrrerq\n",
      "ASDASDSADS 34\n"
     ]
    }
   ],
   "source": [
    "# Question\n",
    "print(re.search(\".*\", \"\").group())  # '' - empty string is resulted\n",
    "print(re.search(\".*\", \"aS\").group())\n",
    "print(re.search(\".*\", \"ASDASDSADS\").group())\n",
    "print(re.search(\".*\", \"ASDASDSADS 3444 *&(*&(_)_.dfaderrrerq\").group())\n",
    "print(re.search(\".*\", \"ASDASDSADS 34\\n44 *&(*&(_)_.dfaderrrerq\").group())"
   ]
  },
  {
   "cell_type": "code",
   "execution_count": 35,
   "metadata": {},
   "outputs": [
    {
     "name": "stdout",
     "output_type": "stream",
     "text": [
      "Non-Greedy Pattern\n",
      "\n",
      "c\n",
      "\n",
      "ccccccc\n",
      "ccccccc\n",
      "c\n"
     ]
    }
   ],
   "source": [
    "print(\"Non-Greedy Pattern\")\n",
    "print(re.search(\".?\", \"\").group())  # any char occurred 1 times\n",
    "print(re.search(\".?\", \"c\").group())  # any char occurred 1 times\n",
    "print()\n",
    "print(re.search(\".*\", \"ccccccc\").group())  # any char occurred 7 times\n",
    "print(re.search(\".+\", \"ccccccc\").group())  # any char occurred 7 times\n",
    "print(\n",
    "    re.search(\".?\", \"ccccccc\").group()\n",
    ")  # any char occurred 7 times; only 1 time taken"
   ]
  },
  {
   "cell_type": "code",
   "execution_count": 36,
   "metadata": {},
   "outputs": [
    {
     "name": "stdout",
     "output_type": "stream",
     "text": [
      "\n"
     ]
    }
   ],
   "source": [
    "# Real example\n",
    "print(re.search(\"\", \"<h1>name</h1>\").group())"
   ]
  },
  {
   "cell_type": "code",
   "execution_count": 37,
   "metadata": {},
   "outputs": [
    {
     "name": "stdout",
     "output_type": "stream",
     "text": [
      "<h1>name</h1>\n",
      "<h1>name</h1>\n"
     ]
    }
   ],
   "source": [
    "# greedy pattern\n",
    "print(re.search(\"<.+>\", \"<h1>name</h1>\").group())  # <h1>name</h1>\n",
    "print(re.search(\"<.*>\", \"<h1>name</h1>\").group())  # <h1>name</h1>"
   ]
  },
  {
   "cell_type": "code",
   "execution_count": 38,
   "metadata": {},
   "outputs": [
    {
     "name": "stdout",
     "output_type": "stream",
     "text": [
      "1\n",
      "150\n",
      "150\n",
      "1\n"
     ]
    }
   ],
   "source": [
    "# pattern for numbers\n",
    "# /d \n",
    "# [0-9]\n",
    "# [345]\n",
    "print(re.search(r\"\\d\", \"150\").group())   # 1\n",
    "print(re.search(r\"\\d*\", \"150\").group())  # 150\n",
    "print(re.search(r\"\\d+\", \"150\").group())  # 150\n",
    "print(re.search(r\"\\d?\", \"150\").group())  # 1"
   ]
  },
  {
   "cell_type": "code",
   "execution_count": 39,
   "metadata": {},
   "outputs": [
    {
     "name": "stdout",
     "output_type": "stream",
     "text": [
      "1\n",
      "\n",
      "150\n",
      "\n"
     ]
    }
   ],
   "source": [
    "print(re.search(r\"\\d\", \"cost of apples is $150 per basket\").group())  # 1\n",
    "print(re.search(r\"\\d*\", \"cost of apples is $150 per basket\").group())  # 150\n",
    "print(re.search(r\"\\d+\", \"cost of apples is $150 per basket\").group())  # 150\n",
    "print(re.search(r\"\\d?\", \"cost of apples is $150 per basket\").group())  # 1"
   ]
  },
  {
   "cell_type": "code",
   "execution_count": 40,
   "metadata": {},
   "outputs": [],
   "source": [
    "# Consolidated patterns\n",
    "# .  any character, except newline\n",
    "# \\d - presence of any digit 0-9\n",
    "# \\D - absence of any digit\n",
    "\n",
    "# \\w - presence of any alphanumeric a-z A-Z 0-9\n",
    "# \\W - absence of any alphanumeric a-z A-Z 0-9\n",
    "\n",
    "# \\s  -presence of  white space AND \\n\n",
    "# \\S  - absence of white space and \\n\n",
    "\n",
    "# \\A | Matches the expression to its right at the absolute start of a string whether in single or multi-line mode.\n",
    "# \\Z | Matches the expression to its left at the absolute end of a string whether in single or multi-line mode.\n",
    "\n",
    "# \\b | Matches the boundary (or empty string) at the start and end of a word, that is, between \\w and \\W.\n",
    "# \\B | Matches where \\b does not, that is, the boundary of \\w characters.\n",
    "# re.findall\n",
    "# # re.match()    -> to get a pattern at first of search string\n",
    "# # re.search()   -> to get a pattern at any place in search string\n",
    "\n",
    "# # re.findall()  -> to get all the patterns within the search string"
   ]
  },
  {
   "cell_type": "code",
   "execution_count": 41,
   "metadata": {},
   "outputs": [
    {
     "name": "stdout",
     "output_type": "stream",
     "text": [
      "PYTHON\n",
      "PYTHON\n"
     ]
    }
   ],
   "source": [
    "print(re.match(\"python\", \"PYTHON python PYTHon pYTHon43454\", re.I).group())\n",
    "print(re.search(\"python\", \"PYTHON python PYTHon pYTHon43454\", re.I).group())"
   ]
  },
  {
   "cell_type": "code",
   "execution_count": 42,
   "metadata": {},
   "outputs": [
    {
     "name": "stdout",
     "output_type": "stream",
     "text": [
      "['python']\n"
     ]
    }
   ],
   "source": [
    "\n",
    "print(re.findall(\"python\", \"PYTHON python PYTHon pYTHon43454\"))"
   ]
  },
  {
   "cell_type": "code",
   "execution_count": 43,
   "metadata": {},
   "outputs": [
    {
     "name": "stdout",
     "output_type": "stream",
     "text": [
      "['2', '2', '2', '2', '2']\n"
     ]
    }
   ],
   "source": [
    "target_string = \"\"\"\n",
    "Hi everyone!\n",
    "The PARTY is on 23rd of May 2020, at xyz place. at time 7.30 pm IST\n",
    "And the RECEPTION is on 30th of May, 2020 at xxx place.\n",
    "Thanks\n",
    "\"\"\"\n",
    "print(re.findall(\"2\", target_string, re.I))"
   ]
  },
  {
   "cell_type": "markdown",
   "metadata": {},
   "source": [
    "Email Validation"
   ]
  },
  {
   "cell_type": "code",
   "execution_count": 44,
   "metadata": {},
   "outputs": [],
   "source": [
    "email_ids = r\"\"\"\n",
    "Edit the Expression & Text to see matches. Roll over matches or the expression for details. Und\n",
    "python@programm.com\n",
    "Sample text for testing:\n",
    "abcdefghijklmnopqrstuvwxyz ABCDEFGHIJKLMNOPQRSTUVWXYZ\n",
    "0123456789 _+-.,!@#$%^&*();\\/|<>\"'python@gmail.com\n",
    "12345 -98.7 3.141 .6180 9,000 +42\n",
    "555.123.4567 +1-(800)-555-2468\n",
    "foo@demo.net bar.ba@test.co.uk\n",
    "www.demo.com http://foo.co.uk/\n",
    "http://regexr.com/foo.html?q=bar\n",
    "https://mediatemple.net\n",
    "mediatepmple@outlook.com\n",
    "mubeen.tom@hacker.com\n",
    "1%453&harini_new@in.com\n",
    "SUPPORT@microsoft.com\n",
    "\"\"\""
   ]
  },
  {
   "cell_type": "code",
   "execution_count": 45,
   "metadata": {},
   "outputs": [
    {
     "data": {
      "text/plain": [
       "['@', '@', '@', '@', '@', '@', '@', '@', '@']"
      ]
     },
     "execution_count": 45,
     "metadata": {},
     "output_type": "execute_result"
    }
   ],
   "source": [
    "re.findall('@', email_ids)"
   ]
  },
  {
   "cell_type": "code",
   "execution_count": 46,
   "metadata": {},
   "outputs": [
    {
     "data": {
      "text/plain": [
       "['python@programm',\n",
       " 'python@gmail',\n",
       " 'foo@demo',\n",
       " 'ba@test',\n",
       " 'mediatepmple@outlook',\n",
       " 'tom@hacker',\n",
       " 'harini_new@in',\n",
       " 'SUPPORT@microsoft']"
      ]
     },
     "execution_count": 46,
     "metadata": {},
     "output_type": "execute_result"
    }
   ],
   "source": [
    "re.findall(r'\\w+@\\w+', email_ids)"
   ]
  },
  {
   "cell_type": "code",
   "execution_count": 54,
   "metadata": {},
   "outputs": [
    {
     "data": {
      "text/plain": [
       "['0123456789',\n",
       " '12345',\n",
       " '-98',\n",
       " '7',\n",
       " '3',\n",
       " '141',\n",
       " '6180',\n",
       " '9',\n",
       " '000',\n",
       " '42',\n",
       " '555',\n",
       " '123',\n",
       " '4567',\n",
       " '1',\n",
       " '800',\n",
       " '-555',\n",
       " '-2468',\n",
       " '1',\n",
       " '453']"
      ]
     },
     "execution_count": 54,
     "metadata": {},
     "output_type": "execute_result"
    }
   ],
   "source": [
    "# phone = r'-?\\b\\d+\\b'\n",
    "re.findall(r'-?\\b\\d+\\b', email_ids)"
   ]
  },
  {
   "cell_type": "code",
   "execution_count": 48,
   "metadata": {},
   "outputs": [
    {
     "data": {
      "text/plain": [
       "['python@programm.com',\n",
       " 'python@gmail.com',\n",
       " 'foo@demo.net',\n",
       " 'ba@test.co',\n",
       " 'mediatepmple@outlook.com',\n",
       " 'tom@hacker.com',\n",
       " 'harini_new@in.com',\n",
       " 'SUPPORT@microsoft.com']"
      ]
     },
     "execution_count": 48,
     "metadata": {},
     "output_type": "execute_result"
    }
   ],
   "source": [
    "re.findall(r'\\w+@\\w+\\.\\w+', email_ids)"
   ]
  },
  {
   "cell_type": "code",
   "execution_count": 49,
   "metadata": {},
   "outputs": [
    {
     "data": {
      "text/plain": [
       "['python@programm.com',\n",
       " 'python@gmail.com',\n",
       " 'foo@demo.net',\n",
       " 'ba@test.co.uk',\n",
       " 'mediatepmple@outlook.com',\n",
       " 'tom@hacker.com',\n",
       " 'harini_new@in.com',\n",
       " 'SUPPORT@microsoft.com']"
      ]
     },
     "execution_count": 49,
     "metadata": {},
     "output_type": "execute_result"
    }
   ],
   "source": [
    "re.findall(r'\\w+@\\w+\\.\\w+\\.?\\w+', email_ids)"
   ]
  },
  {
   "cell_type": "code",
   "execution_count": 50,
   "metadata": {},
   "outputs": [
    {
     "data": {
      "text/plain": [
       "['python@programm.com',\n",
       " 'python@gmail.com',\n",
       " 'foo@demo.net',\n",
       " 'bar.ba@test.co.uk',\n",
       " 'mediatepmple@outlook.com',\n",
       " 'mubeen.tom@hacker.com',\n",
       " 'new@in.com',\n",
       " 'SUPPORT@microsoft.com']"
      ]
     },
     "execution_count": 50,
     "metadata": {},
     "output_type": "execute_result"
    }
   ],
   "source": [
    "re.findall(r'[a-zA-Z0-9.]+@[a-zA-Z0-9.]+\\.[a-zA-Z0-9]+\\.?[a-zA-Z0-9.]+', email_ids)"
   ]
  },
  {
   "cell_type": "code",
   "execution_count": 51,
   "metadata": {},
   "outputs": [
    {
     "data": {
      "text/plain": [
       "['python@programm.com',\n",
       " 'python@gmail.com',\n",
       " 'foo@demo.net',\n",
       " 'bar.ba@test.co.uk',\n",
       " 'mediatepmple@outlook.com',\n",
       " 'mubeen.tom@hacker.com',\n",
       " 'harini_new@in.com',\n",
       " 'SUPPORT@microsoft.com']"
      ]
     },
     "execution_count": 51,
     "metadata": {},
     "output_type": "execute_result"
    }
   ],
   "source": [
    "re.findall(r'[a-zA-Z0-9._]+@[a-zA-Z0-9._]+\\.[a-zA-Z0-9_]+\\.?[a-zA-Z0-9._]+', email_ids)"
   ]
  },
  {
   "cell_type": "code",
   "execution_count": 55,
   "metadata": {},
   "outputs": [
    {
     "data": {
      "text/plain": [
       "['0123456789',\n",
       " '12345',\n",
       " '-98',\n",
       " '7',\n",
       " '3',\n",
       " '141',\n",
       " '6180',\n",
       " '9',\n",
       " '000',\n",
       " '42',\n",
       " '555',\n",
       " '123',\n",
       " '4567',\n",
       " '1',\n",
       " '800',\n",
       " '-555',\n",
       " '-2468',\n",
       " '1',\n",
       " '453']"
      ]
     },
     "execution_count": 55,
     "metadata": {},
     "output_type": "execute_result"
    }
   ],
   "source": [
    "# phone = r'-?\\b\\d+\\b'\n",
    "re.findall(r'-?\\b\\d+\\b', email_ids)"
   ]
  },
  {
   "cell_type": "code",
   "execution_count": 62,
   "metadata": {},
   "outputs": [
    {
     "data": {
      "text/plain": [
       "['555', '(800)']"
      ]
     },
     "execution_count": 62,
     "metadata": {},
     "output_type": "execute_result"
    }
   ],
   "source": [
    "\n",
    "re.findall(r'\\+?\\d{1,2}[-.\\s]?(\\(\\d{3}\\)|\\d{3})[-.\\s]?\\d{3}[-.\\s]?\\d{4}', email_ids)"
   ]
  },
  {
   "cell_type": "code",
   "execution_count": null,
   "metadata": {},
   "outputs": [],
   "source": []
  }
 ],
 "metadata": {
  "kernelspec": {
   "display_name": "Python 3",
   "language": "python",
   "name": "python3"
  },
  "language_info": {
   "codemirror_mode": {
    "name": "ipython",
    "version": 3
   },
   "file_extension": ".py",
   "mimetype": "text/x-python",
   "name": "python",
   "nbconvert_exporter": "python",
   "pygments_lexer": "ipython3",
   "version": "3.12.1"
  }
 },
 "nbformat": 4,
 "nbformat_minor": 2
}
