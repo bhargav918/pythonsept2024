{
 "cells": [
  {
   "cell_type": "code",
   "execution_count": 1,
   "metadata": {},
   "outputs": [
    {
     "data": {
      "text/plain": [
       "['JSONDecodeError',\n",
       " 'JSONDecoder',\n",
       " 'JSONEncoder',\n",
       " '__all__',\n",
       " '__author__',\n",
       " '__builtins__',\n",
       " '__cached__',\n",
       " '__doc__',\n",
       " '__file__',\n",
       " '__loader__',\n",
       " '__name__',\n",
       " '__package__',\n",
       " '__path__',\n",
       " '__spec__',\n",
       " '__version__',\n",
       " '_default_decoder',\n",
       " '_default_encoder',\n",
       " 'codecs',\n",
       " 'decoder',\n",
       " 'detect_encoding',\n",
       " 'dump',\n",
       " 'dumps',\n",
       " 'encoder',\n",
       " 'load',\n",
       " 'loads',\n",
       " 'scanner']"
      ]
     },
     "execution_count": 1,
     "metadata": {},
     "output_type": "execute_result"
    }
   ],
   "source": [
    "import json\n",
    "dir(json)\n"
   ]
  },
  {
   "cell_type": "code",
   "execution_count": 2,
   "metadata": {},
   "outputs": [
    {
     "data": {
      "text/plain": [
       "{'101': {'result': True, 'class': 'V', 'Name': 'Rohit', 'Roll_no': 7},\n",
       " '103': {'result': False,\n",
       "  'class': 'V',\n",
       "  'Name': 'Samiya',\n",
       "  'Roll_no': 12,\n",
       "  '102': {'result': True, 'class': 'V', 'Name': 'David', 'Roll_no': 8}}}"
      ]
     },
     "execution_count": 2,
     "metadata": {},
     "output_type": "execute_result"
    }
   ],
   "source": [
    "# dict\n",
    "student = {\n",
    "    \"101\": {\"result\": True, \"class\": \"V\", \"Name\": \"Rohit\", \"Roll_no\": 7},\n",
    "    \"103\": {\n",
    "        \"result\": False,\n",
    "        \"class\": \"V\",\n",
    "        \"Name\": \"Samiya\",\n",
    "        \"Roll_no\": 12,\n",
    "        \"102\": {\"result\": True, \"class\": \"V\", \"Name\": \"David\", \"Roll_no\": 8},\n",
    "    },\n",
    "}\n",
    "\n",
    "student"
   ]
  },
  {
   "cell_type": "code",
   "execution_count": 3,
   "metadata": {},
   "outputs": [
    {
     "data": {
      "text/plain": [
       "'{\"101\": {\"result\": true, \"class\": \"V\", \"Name\": \"Rohit\", \"Roll_no\": 7}, \"103\": {\"result\": false, \"class\": \"V\", \"Name\": \"Samiya\", \"Roll_no\": 12, \"102\": {\"result\": true, \"class\": \"V\", \"Name\": \"David\", \"Roll_no\": 8}}}'"
      ]
     },
     "execution_count": 3,
     "metadata": {},
     "output_type": "execute_result"
    }
   ],
   "source": [
    "json.dumps(student)"
   ]
  },
  {
   "cell_type": "code",
   "execution_count": 4,
   "metadata": {},
   "outputs": [
    {
     "data": {
      "text/plain": [
       "'{\"101\": {\"Name\": \"Rohit\", \"Roll_no\": 7, \"class\": \"V\", \"result\": true}, \"103\": {\"102\": {\"Name\": \"David\", \"Roll_no\": 8, \"class\": \"V\", \"result\": true}, \"Name\": \"Samiya\", \"Roll_no\": 12, \"class\": \"V\", \"result\": false}}'"
      ]
     },
     "execution_count": 4,
     "metadata": {},
     "output_type": "execute_result"
    }
   ],
   "source": [
    "# Python Dictionaries to JSON strings (sorted by key)\n",
    "json.dumps(student, sort_keys=True)"
   ]
  },
  {
   "cell_type": "code",
   "execution_count": 5,
   "metadata": {},
   "outputs": [
    {
     "name": "stdout",
     "output_type": "stream",
     "text": [
      "[\"Red\", \"Black\", \"White\"]\n"
     ]
    }
   ],
   "source": [
    "# Python tuple to JSON array\n",
    "\n",
    "\n",
    "tup1 = \"Red\", \"Black\", \"White\"\n",
    "print(json.dumps(tup1))"
   ]
  },
  {
   "cell_type": "code",
   "execution_count": 6,
   "metadata": {},
   "outputs": [
    {
     "name": "stdout",
     "output_type": "stream",
     "text": [
      "\"Python and JSON\"\n"
     ]
    }
   ],
   "source": [
    "# Python string to JSON string\n",
    "string1 = 'Python and JSON'\n",
    "print(json.dumps(string1))"
   ]
  },
  {
   "cell_type": "code",
   "execution_count": 7,
   "metadata": {},
   "outputs": [
    {
     "name": "stdout",
     "output_type": "stream",
     "text": [
      "\"Python and JSON\"\n"
     ]
    }
   ],
   "source": [
    "string1 = '''Python and JSON'''\n",
    "print(json.dumps(string1))"
   ]
  },
  {
   "cell_type": "code",
   "execution_count": 8,
   "metadata": {},
   "outputs": [
    {
     "name": "stdout",
     "output_type": "stream",
     "text": [
      "true\n"
     ]
    }
   ],
   "source": [
    "# Python Boolean values to JSON Boolean values\n",
    "x = True\n",
    "print((json.dumps(x)))"
   ]
  },
  {
   "cell_type": "code",
   "execution_count": 9,
   "metadata": {},
   "outputs": [
    {
     "name": "stdout",
     "output_type": "stream",
     "text": [
      "false\n"
     ]
    }
   ],
   "source": [
    "x = False\n",
    "print((json.dumps(x)))"
   ]
  },
  {
   "cell_type": "code",
   "execution_count": 10,
   "metadata": {},
   "outputs": [
    {
     "name": "stdout",
     "output_type": "stream",
     "text": [
      "-456\n",
      "-1.406\n",
      "2.12e-10\n"
     ]
    }
   ],
   "source": [
    "# Python int, float, int- & float-derived Enums to JSON number\n",
    "x = -456\n",
    "y = -1.406\n",
    "z = 2.12e-10\n",
    "print((json.dumps(x)))\n",
    "print((json.dumps(y)))\n",
    "print((json.dumps(z)))"
   ]
  },
  {
   "cell_type": "code",
   "execution_count": 11,
   "metadata": {},
   "outputs": [
    {
     "name": "stdout",
     "output_type": "stream",
     "text": [
      "{'103': {'class': 'V', 'Name': 'Samiya', 'Roll_n': 12}, '102': {'class': 'V', 'Name': 'David', 'Roll_no': 8}, '101': {'class': 'V', 'Name': 'Rohit', 'Roll_no': 7}}\n"
     ]
    }
   ],
   "source": [
    "# JSON strings to Python Dictionaries\n",
    "json_data = '{\"103\": {\"class\": \"V\", \"Name\": \"Samiya\", \"Roll_n\": 12}, \"102\": {\"class\": \"V\", \"Name\": \"David\", \"Roll_no\": 8}, \"101\": {\"class\": \"V\", \"Name\": \"Rohit\", \"Roll_no\": 7}}'\n",
    "print(json.loads(json_data))"
   ]
  },
  {
   "cell_type": "code",
   "execution_count": 12,
   "metadata": {},
   "outputs": [
    {
     "name": "stdout",
     "output_type": "stream",
     "text": [
      "['Red', 'Black', 'White']\n"
     ]
    }
   ],
   "source": [
    "# JSON array Python list\n",
    "Json_array = '[\"Red\", \"Black\", \"White\"]'\n",
    "print((json.loads(Json_array)))"
   ]
  },
  {
   "cell_type": "code",
   "execution_count": 13,
   "metadata": {},
   "outputs": [
    {
     "data": {
      "text/plain": [
       "'{\"a\": 0, \"b\": 0, \"c\": 0}'"
      ]
     },
     "execution_count": 13,
     "metadata": {},
     "output_type": "execute_result"
    }
   ],
   "source": [
    "json.dumps({\"c\": 0, \"b\": 0, \"a\": 0}, sort_keys=True)"
   ]
  },
  {
   "cell_type": "code",
   "execution_count": 14,
   "metadata": {},
   "outputs": [
    {
     "data": {
      "text/plain": [
       "'[1,2,3,{\"4\":5,\"6\":7}]'"
      ]
     },
     "execution_count": 14,
     "metadata": {},
     "output_type": "execute_result"
    }
   ],
   "source": [
    "data = json.dumps([1, 2, 3, {\"4\": 5, \"6\": 7}], separators=(\",\", \":\"))\n",
    "data"
   ]
  },
  {
   "cell_type": "code",
   "execution_count": 15,
   "metadata": {},
   "outputs": [
    {
     "data": {
      "text/plain": [
       "'{\\n    \"6\": 7,\\n    \"44\": 5\\n}'"
      ]
     },
     "execution_count": 15,
     "metadata": {},
     "output_type": "execute_result"
    }
   ],
   "source": [
    "json.dumps({44: 5, 6: 7}, sort_keys=True, indent=4, separators=(\",\", \": \"))"
   ]
  },
  {
   "cell_type": "code",
   "execution_count": 16,
   "metadata": {},
   "outputs": [
    {
     "name": "stdout",
     "output_type": "stream",
     "text": [
      "{\n",
      "    \"6\": 7,\n",
      "    \"44\": 5\n",
      "}\n"
     ]
    }
   ],
   "source": [
    "print(json.dumps({44: 5, 6: 7}, sort_keys=True, indent=4, separators=(\",\", \": \")))"
   ]
  },
  {
   "cell_type": "code",
   "execution_count": 17,
   "metadata": {},
   "outputs": [
    {
     "name": "stdout",
     "output_type": "stream",
     "text": [
      "\n",
      "book details :\n",
      " {'title': 'Python Programming Essentials', 'tags': ('Python', 'Programming'), 'published': True, 'comment_link': None, 'author': 'Udhay', 'id': 786}\n",
      "type(book) is  <class 'dict'>\n",
      "{'author': 'Udhay',\n",
      " 'comment_link': None,\n",
      " 'id': 786,\n",
      " 'published': True,\n",
      " 'tags': ('Python', 'Programming'),\n",
      " 'title': 'Python Programming Essentials'}\n"
     ]
    }
   ],
   "source": [
    "#!/usr/bin/python\n",
    "import json\n",
    "from pprint import pprint\n",
    "\n",
    "book = {}\n",
    "book[\"title\"] = \"Python Programming Essentials\"\n",
    "book[\"tags\"] = (\"Python\", \"Programming\")\n",
    "book[\"published\"] = True\n",
    "book[\"comment_link\"] = None\n",
    "book[\"author\"] = \"Udhay\"\n",
    "book[\"id\"] = 786\n",
    "\n",
    "print(\"\\nbook details :\\n\", book)\n",
    "print(\"type(book) is \", type(book))\n",
    "pprint(book)"
   ]
  },
  {
   "cell_type": "code",
   "execution_count": 18,
   "metadata": {},
   "outputs": [],
   "source": [
    "# Serilazation\n",
    "with open(\"ebook.json\", \"w\") as f:\n",
    "    json.dump(book, f)\n",
    "    f.close()"
   ]
  },
  {
   "cell_type": "code",
   "execution_count": 19,
   "metadata": {},
   "outputs": [
    {
     "name": "stdout",
     "output_type": "stream",
     "text": [
      "a_sample_json.ipynb  assign_xmltodict.py  converted_books.xml\n",
      "a_xml_to_dict.py     books.xml\t\t  ebook.json\n"
     ]
    }
   ],
   "source": [
    "! ls"
   ]
  },
  {
   "cell_type": "code",
   "execution_count": 20,
   "metadata": {},
   "outputs": [
    {
     "name": "stdout",
     "output_type": "stream",
     "text": [
      "{\"title\": \"Python Programming Essentials\", \"tags\": [\"Python\", \"Programming\"], \"published\": true, \"comment_link\": null, \"author\": \"Udhay\", \"id\": 786}"
     ]
    }
   ],
   "source": [
    "! cat ebook.json"
   ]
  },
  {
   "cell_type": "code",
   "execution_count": 21,
   "metadata": {},
   "outputs": [
    {
     "name": "stdout",
     "output_type": "stream",
     "text": [
      "\n",
      "deserializing the json data \n",
      "\n",
      "data =  {'title': 'Python Programming Essentials', 'tags': ['Python', 'Programming'], 'published': True, 'comment_link': None, 'author': 'Udhay', 'id': 786}\n"
     ]
    }
   ],
   "source": [
    "# De-serialization\n",
    "print(\"\\ndeserializing the json data \\n\")\n",
    "with open(\"ebook.json\", \"r\") as g:\n",
    "    data = json.load(g)\n",
    "    g.close()\n",
    "\n",
    "print(\"data = \", data)"
   ]
  },
  {
   "cell_type": "code",
   "execution_count": 22,
   "metadata": {},
   "outputs": [
    {
     "name": "stdout",
     "output_type": "stream",
     "text": [
      "\n",
      "printing using pretty print\n",
      "{'author': 'Udhay',\n",
      " 'comment_link': None,\n",
      " 'id': 786,\n",
      " 'published': True,\n",
      " 'tags': ['Python', 'Programming'],\n",
      " 'title': 'Python Programming Essentials'}\n",
      "{   'author': 'Udhay',\n",
      "    'comment_link': None,\n",
      "    'id': 786,\n",
      "    'published': True,\n",
      "    'tags': ['Python', 'Programming'],\n",
      "    'title': 'Python Programming Essentials'}\n"
     ]
    }
   ],
   "source": [
    "print(\"\\nprinting using pretty print\")\n",
    "pprint(data)\n",
    "pprint(data, indent=4)"
   ]
  },
  {
   "cell_type": "code",
   "execution_count": 24,
   "metadata": {},
   "outputs": [
    {
     "name": "stdout",
     "output_type": "stream",
     "text": [
      "\n",
      "book details :\n",
      " {'title': 'Python Programming Essentials', 'tags': ('Python', 'Programming'), 'published': True, 'comment_link': None, 'author': 'Udhay', 'id': 786}\n",
      "type(book) is  <class 'dict'>\n",
      "{'author': 'Udhay',\n",
      " 'comment_link': None,\n",
      " 'id': 786,\n",
      " 'published': True,\n",
      " 'tags': ('Python', 'Programming'),\n",
      " 'title': 'Python Programming Essentials'}\n",
      "\n",
      "deserializing the json data \n",
      "\n",
      "data =  {'title': 'Python Programming Essentials', 'tags': ['Python', 'Programming'], 'published': True, 'comment_link': None, 'author': 'Udhay', 'id': 786}\n",
      "\n",
      "printing using pretty print\n",
      "{'author': 'Udhay',\n",
      " 'comment_link': None,\n",
      " 'id': 786,\n",
      " 'published': True,\n",
      " 'tags': ['Python', 'Programming'],\n",
      " 'title': 'Python Programming Essentials'}\n",
      "{   'author': 'Udhay',\n",
      "    'comment_link': None,\n",
      "    'id': 786,\n",
      "    'published': True,\n",
      "    'tags': ['Python', 'Programming'],\n",
      "    'title': 'Python Programming Essentials'}\n",
      "\n",
      "Using json.dumps to convert dictionary to JSON string:\n",
      "{\n",
      "    \"title\": \"Python Programming Essentials\",\n",
      "    \"tags\": [\n",
      "        \"Python\",\n",
      "        \"Programming\"\n",
      "    ],\n",
      "    \"published\": true,\n",
      "    \"comment_link\": null,\n",
      "    \"author\": \"Udhay\",\n",
      "    \"id\": 786\n",
      "}\n",
      "\n",
      "Using json.loads to convert JSON string back to dictionary:\n",
      "Parsed data: {'title': 'Python Programming Essentials', 'tags': ['Python', 'Programming'], 'published': True, 'comment_link': None, 'author': 'Udhay', 'id': 786}\n",
      "\n",
      "Pretty printing parsed data:\n",
      "{   'author': 'Udhay',\n",
      "    'comment_link': None,\n",
      "    'id': 786,\n",
      "    'published': True,\n",
      "    'tags': ['Python', 'Programming'],\n",
      "    'title': 'Python Programming Essentials'}\n"
     ]
    }
   ],
   "source": [
    "#!/usr/bin/python\n",
    "import json\n",
    "from pprint import pprint\n",
    "\n",
    "book = {}\n",
    "book[\"title\"] = \"Python Programming Essentials\"\n",
    "book[\"tags\"] = (\"Python\", \"Programming\")\n",
    "book[\"published\"] = True\n",
    "book[\"comment_link\"] = None\n",
    "book[\"author\"] = \"Udhay\"\n",
    "book[\"id\"] = 786\n",
    "\n",
    "print(\"\\nbook details :\\n\", book)\n",
    "print(\"type(book) is \", type(book))\n",
    "pprint(book)\n",
    "\n",
    "# Serilazation\n",
    "with open(\"ebook.json\", \"w\") as f:\n",
    "    json.dump(book, f)\n",
    "    f.close()\n",
    "\n",
    "# De-serialization\n",
    "print(\"\\ndeserializing the json data \\n\")\n",
    "with open(\"ebook.json\", \"r\") as g:\n",
    "    data = json.load(g)\n",
    "    g.close()\n",
    "\n",
    "print(\"data = \", data)\n",
    "\n",
    "print(\"\\nprinting using pretty print\")\n",
    "pprint(data)\n",
    "pprint(data, indent=4)\n",
    "\n",
    "print(\"\\nUsing json.dumps to convert dictionary to JSON string:\")\n",
    "json_string = json.dumps(book, indent=4)  # Serialize to JSON string with indentation\n",
    "print(json_string)\n",
    "\n",
    "print(\"\\nUsing json.loads to convert JSON string back to dictionary:\")\n",
    "parsed_data = json.loads(json_string)  # Deserialize back to Python dictionary\n",
    "print(\"Parsed data:\", parsed_data)\n",
    "\n",
    "print(\"\\nPretty printing parsed data:\")\n",
    "pprint(parsed_data, indent=4)"
   ]
  },
  {
   "cell_type": "code",
   "execution_count": null,
   "metadata": {},
   "outputs": [],
   "source": []
  }
 ],
 "metadata": {
  "kernelspec": {
   "display_name": "Python 3",
   "language": "python",
   "name": "python3"
  },
  "language_info": {
   "codemirror_mode": {
    "name": "ipython",
    "version": 3
   },
   "file_extension": ".py",
   "mimetype": "text/x-python",
   "name": "python",
   "nbconvert_exporter": "python",
   "pygments_lexer": "ipython3",
   "version": "3.12.1"
  }
 },
 "nbformat": 4,
 "nbformat_minor": 2
}
